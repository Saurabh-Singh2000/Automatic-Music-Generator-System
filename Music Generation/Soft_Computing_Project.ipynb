{
  "nbformat": 4,
  "nbformat_minor": 0,
  "metadata": {
    "colab": {
      "name": "Soft Computing Project.ipynb",
      "provenance": [],
      "collapsed_sections": []
    },
    "kernelspec": {
      "name": "python3",
      "display_name": "Python 3"
    }
  },
  "cells": [
    {
      "cell_type": "code",
      "metadata": {
        "id": "QDtjU_si9s6M"
      },
      "source": [
        "import numpy\n",
        "import tensorflow as tf\n",
        "import tensorflow.keras\n",
        "from keras.utils import np_utils\n",
        "from tensorflow.keras import Sequential\n",
        "from music21 import converter,stream ,instrument,chord,note\n",
        "import glob\n",
        "from keras.callbacks import ModelCheckpoint\n",
        "from keras.layers import Dense,Dropout,LSTM,Activation"
      ],
      "execution_count": null,
      "outputs": []
    },
    {
      "cell_type": "code",
      "metadata": {
        "id": "srD4BC1X90aO"
      },
      "source": [
        "notes = []\n",
        "for file in glob.glob(\"Input.mid\"):\n",
        "    midi = converter.parse(file)  #parsing a midi file\n",
        "    \n",
        "notes_to_parse = None\n",
        "# grouping based on different instruments\n",
        "parts = instrument.partitionByInstrument(midi)\n",
        "\n",
        "if parts: # file has instrument parts\n",
        "    notes_to_parse = parts.parts[0].recurse()\n",
        "else: # file has notes in a flat structure\n",
        "    notes_to_parse = midi.flat.notes\n",
        "for element in notes_to_parse:\n",
        "    if isinstance(element, note.Note):\n",
        "        notes.append(str(element.pitch))\n",
        "    elif isinstance(element, chord.Chord):\n",
        "        notes.append('.'.join(str(n) for n in element.normalOrder))"
      ],
      "execution_count": null,
      "outputs": []
    },
    {
      "cell_type": "code",
      "metadata": {
        "colab": {
          "base_uri": "https://localhost:8080/"
        },
        "id": "vUTIbvxO942_",
        "outputId": "ecc2f3cc-fa98-47cb-b66f-e82883a6eb97"
      },
      "source": [
        "unique_chars=sorted(list(set(notes)))     #no of pitches\n",
        "print(unique_chars)"
      ],
      "execution_count": null,
      "outputs": [
        {
          "output_type": "stream",
          "text": [
            "['0', '0.3', '0.4', '0.5', '1.3', '1.4', '1.5', '1.5.8', '1.6', '1.7', '10.0.4', '10.1', '10.1.5', '10.2', '10.2.5', '10.3', '2.4', '2.4.8', '2.5', '2.5.9', '2.6', '2.7', '3.6', '3.8', '3.9', '4', '4.10', '4.7', '4.9', '5', '5.10', '5.11', '5.7', '5.8', '5.9', '5.9.0', '7', '7.0', '7.10', '7.10.0', '7.10.1', '7.10.2', '8.0', '8.1', '8.11', '8.11.1', '9.0', '9.0.4', '9.1', '9.1.4', '9.2', 'A1', 'A2', 'A3', 'A4', 'A5', 'A6', 'B-3', 'B-4', 'B-5', 'B1', 'B2', 'B3', 'B4', 'B5', 'B6', 'C#2', 'C#3', 'C#4', 'C#5', 'C#6', 'C2', 'C3', 'C4', 'C5', 'C6', 'C7', 'D2', 'D3', 'D4', 'D5', 'D6', 'D7', 'E-3', 'E-4', 'E-5', 'E-6', 'E2', 'E3', 'E4', 'E5', 'E6', 'E7', 'F#3', 'F#4', 'F#5', 'F2', 'F3', 'F4', 'F5', 'F6', 'G#3', 'G#4', 'G#5', 'G#6', 'G1', 'G2', 'G3', 'G4', 'G5', 'G6']\n"
          ],
          "name": "stdout"
        }
      ]
    },
    {
      "cell_type": "code",
      "metadata": {
        "id": "Eidlapqv-DhG"
      },
      "source": [
        "n_vocab = len(unique_chars)\n",
        "sequence_length = 100\n",
        "# get all pitch names\n",
        "pitchnames = sorted(set(item for item in notes))\n",
        "# create a dictionary to map pitches to integers\n",
        "note_to_int = dict((note, number) for number, note in enumerate(pitchnames))\n",
        "network_input = []\n",
        "network_output = []\n",
        "# create input sequences and the corresponding outputs\n",
        "for i in range(0, len(notes) - sequence_length, 1):\n",
        "    sequence_in = notes[i:i + sequence_length]\n",
        "    sequence_out = notes[i + sequence_length]\n",
        "    network_input.append([note_to_int[char] for char in sequence_in])\n",
        "    network_output.append(note_to_int[sequence_out])\n",
        "n_patterns = len(network_input)\n",
        "# reshape the input into a format compatible with LSTM layers\n",
        "network_input = numpy.reshape(network_input, (n_patterns, sequence_length, 1))\n",
        "# normalize input\n",
        "network_input = network_input / float(n_vocab)\n",
        "network_output = np_utils.to_categorical(network_output)"
      ],
      "execution_count": null,
      "outputs": []
    },
    {
      "cell_type": "code",
      "metadata": {
        "colab": {
          "base_uri": "https://localhost:8080/"
        },
        "id": "t4ws9tPY-LWN",
        "outputId": "00e069b5-8ac5-43c9-b891-2f9bb50b5c41"
      },
      "source": [
        "model = Sequential()\n",
        "model.add(LSTM(\n",
        "    256,\n",
        "    input_shape=(network_input.shape[1], network_input.shape[2]),\n",
        "    return_sequences=True\n",
        "))\n",
        "model.add(Dropout(0.3))\n",
        "model.add(LSTM(512, return_sequences=True))\n",
        "model.add(Dropout(0.3))\n",
        "model.add(LSTM(256))\n",
        "model.add(Dense(256))\n",
        "model.add(Dropout(0.3))\n",
        "model.add(Dense(network_output.shape[1],activation='softmax'))\n",
        "model.compile(loss='categorical_crossentropy', optimizer='adam', metrics=['accuracy'])\n",
        "model.summary()"
      ],
      "execution_count": null,
      "outputs": [
        {
          "output_type": "stream",
          "text": [
            "Model: \"sequential_1\"\n",
            "_________________________________________________________________\n",
            "Layer (type)                 Output Shape              Param #   \n",
            "=================================================================\n",
            "lstm_3 (LSTM)                (None, 100, 256)          264192    \n",
            "_________________________________________________________________\n",
            "dropout_3 (Dropout)          (None, 100, 256)          0         \n",
            "_________________________________________________________________\n",
            "lstm_4 (LSTM)                (None, 100, 512)          1574912   \n",
            "_________________________________________________________________\n",
            "dropout_4 (Dropout)          (None, 100, 512)          0         \n",
            "_________________________________________________________________\n",
            "lstm_5 (LSTM)                (None, 256)               787456    \n",
            "_________________________________________________________________\n",
            "dense_2 (Dense)              (None, 256)               65792     \n",
            "_________________________________________________________________\n",
            "dropout_5 (Dropout)          (None, 256)               0         \n",
            "_________________________________________________________________\n",
            "dense_3 (Dense)              (None, 111)               28527     \n",
            "=================================================================\n",
            "Total params: 2,720,879\n",
            "Trainable params: 2,720,879\n",
            "Non-trainable params: 0\n",
            "_________________________________________________________________\n"
          ],
          "name": "stdout"
        }
      ]
    },
    {
      "cell_type": "code",
      "metadata": {
        "colab": {
          "base_uri": "https://localhost:8080/"
        },
        "id": "u9x_THPW-PSB",
        "outputId": "4b256101-9cff-4712-9b26-6eb7b28580d9"
      },
      "source": [
        "filepath = \"weights-improvement-{epoch:02d}-{loss:.4f}-bigger.hdf5\"    \n",
        "checkpoint = ModelCheckpoint(\n",
        "    filepath, monitor='loss', \n",
        "    verbose=0,        \n",
        "    save_best_only=True,        \n",
        "    mode='min'\n",
        ")    \n",
        "callbacks_list = [checkpoint]     \n",
        "model.fit(network_input, network_output, epochs=50, batch_size=50, callbacks=callbacks_list)"
      ],
      "execution_count": null,
      "outputs": [
        {
          "output_type": "stream",
          "text": [
            "Epoch 1/50\n",
            "45/45 [==============================] - 131s 3s/step - loss: 4.3660 - accuracy: 0.0328\n",
            "Epoch 2/50\n",
            "45/45 [==============================] - 131s 3s/step - loss: 4.2380 - accuracy: 0.0391\n",
            "Epoch 3/50\n",
            "45/45 [==============================] - 130s 3s/step - loss: 4.2045 - accuracy: 0.0450\n",
            "Epoch 4/50\n",
            "45/45 [==============================] - 135s 3s/step - loss: 4.1753 - accuracy: 0.0441\n",
            "Epoch 5/50\n",
            "45/45 [==============================] - 130s 3s/step - loss: 4.0946 - accuracy: 0.0454\n",
            "Epoch 6/50\n",
            "45/45 [==============================] - 135s 3s/step - loss: 4.0591 - accuracy: 0.0513\n",
            "Epoch 7/50\n",
            "45/45 [==============================] - 134s 3s/step - loss: 4.0535 - accuracy: 0.0540\n",
            "Epoch 8/50\n",
            "45/45 [==============================] - 137s 3s/step - loss: 3.9573 - accuracy: 0.0535\n",
            "Epoch 9/50\n",
            "45/45 [==============================] - 134s 3s/step - loss: 3.9429 - accuracy: 0.0571\n",
            "Epoch 10/50\n",
            "45/45 [==============================] - 136s 3s/step - loss: 3.8353 - accuracy: 0.0683\n",
            "Epoch 11/50\n",
            "45/45 [==============================] - 135s 3s/step - loss: 3.7969 - accuracy: 0.0683\n",
            "Epoch 12/50\n",
            "45/45 [==============================] - 141s 3s/step - loss: 3.6858 - accuracy: 0.0827\n",
            "Epoch 13/50\n",
            "45/45 [==============================] - 136s 3s/step - loss: 3.5937 - accuracy: 0.0913\n",
            "Epoch 14/50\n",
            "45/45 [==============================] - 137s 3s/step - loss: 3.4570 - accuracy: 0.0998\n",
            "Epoch 15/50\n",
            "45/45 [==============================] - 135s 3s/step - loss: 3.2837 - accuracy: 0.1178\n",
            "Epoch 16/50\n",
            "45/45 [==============================] - 135s 3s/step - loss: 3.2249 - accuracy: 0.1272\n",
            "Epoch 17/50\n",
            "45/45 [==============================] - 140s 3s/step - loss: 3.0128 - accuracy: 0.1547\n",
            "Epoch 18/50\n",
            "45/45 [==============================] - 136s 3s/step - loss: 2.8505 - accuracy: 0.1709\n",
            "Epoch 19/50\n",
            "45/45 [==============================] - 136s 3s/step - loss: 2.7298 - accuracy: 0.1808\n",
            "Epoch 20/50\n",
            "45/45 [==============================] - 136s 3s/step - loss: 2.5979 - accuracy: 0.1960\n",
            "Epoch 21/50\n",
            "45/45 [==============================] - 137s 3s/step - loss: 2.4644 - accuracy: 0.2140\n",
            "Epoch 22/50\n",
            "45/45 [==============================] - 135s 3s/step - loss: 2.3757 - accuracy: 0.2338\n",
            "Epoch 23/50\n",
            "45/45 [==============================] - 134s 3s/step - loss: 2.2264 - accuracy: 0.2671\n",
            "Epoch 24/50\n",
            "45/45 [==============================] - 134s 3s/step - loss: 2.2470 - accuracy: 0.2734\n",
            "Epoch 25/50\n",
            "45/45 [==============================] - 135s 3s/step - loss: 2.1181 - accuracy: 0.2806\n",
            "Epoch 26/50\n",
            "45/45 [==============================] - 135s 3s/step - loss: 1.9360 - accuracy: 0.3390\n",
            "Epoch 27/50\n",
            "45/45 [==============================] - 135s 3s/step - loss: 1.8023 - accuracy: 0.3750\n",
            "Epoch 28/50\n",
            "45/45 [==============================] - 135s 3s/step - loss: 1.7415 - accuracy: 0.3844\n",
            "Epoch 29/50\n",
            "45/45 [==============================] - 133s 3s/step - loss: 1.6925 - accuracy: 0.4159\n",
            "Epoch 30/50\n",
            "45/45 [==============================] - 134s 3s/step - loss: 1.5087 - accuracy: 0.4694\n",
            "Epoch 31/50\n",
            "45/45 [==============================] - 134s 3s/step - loss: 1.4322 - accuracy: 0.5094\n",
            "Epoch 32/50\n",
            "45/45 [==============================] - 134s 3s/step - loss: 1.2749 - accuracy: 0.5508\n",
            "Epoch 33/50\n",
            "45/45 [==============================] - 134s 3s/step - loss: 1.1994 - accuracy: 0.5656\n",
            "Epoch 34/50\n",
            "45/45 [==============================] - 133s 3s/step - loss: 1.1119 - accuracy: 0.6169\n",
            "Epoch 35/50\n",
            "45/45 [==============================] - 134s 3s/step - loss: 1.0039 - accuracy: 0.6529\n",
            "Epoch 36/50\n",
            "45/45 [==============================] - 135s 3s/step - loss: 0.9600 - accuracy: 0.6641\n",
            "Epoch 37/50\n",
            "45/45 [==============================] - 138s 3s/step - loss: 0.8325 - accuracy: 0.7163\n",
            "Epoch 38/50\n",
            "45/45 [==============================] - 135s 3s/step - loss: 0.7334 - accuracy: 0.7500\n",
            "Epoch 39/50\n",
            "45/45 [==============================] - 136s 3s/step - loss: 0.6628 - accuracy: 0.7810\n",
            "Epoch 40/50\n",
            "45/45 [==============================] - 136s 3s/step - loss: 0.6022 - accuracy: 0.8017\n",
            "Epoch 41/50\n",
            "45/45 [==============================] - 142s 3s/step - loss: 0.5350 - accuracy: 0.8273\n",
            "Epoch 42/50\n",
            "45/45 [==============================] - 137s 3s/step - loss: 0.4886 - accuracy: 0.8386\n",
            "Epoch 43/50\n",
            "45/45 [==============================] - 137s 3s/step - loss: 0.4212 - accuracy: 0.8674\n",
            "Epoch 44/50\n",
            "45/45 [==============================] - 137s 3s/step - loss: 0.3513 - accuracy: 0.8975\n",
            "Epoch 45/50\n",
            "45/45 [==============================] - 137s 3s/step - loss: 0.3315 - accuracy: 0.9002\n",
            "Epoch 46/50\n",
            "45/45 [==============================] - 139s 3s/step - loss: 0.3384 - accuracy: 0.8961\n",
            "Epoch 47/50\n",
            "45/45 [==============================] - 135s 3s/step - loss: 0.2715 - accuracy: 0.9231\n",
            "Epoch 48/50\n",
            "45/45 [==============================] - 135s 3s/step - loss: 0.2464 - accuracy: 0.9272\n",
            "Epoch 49/50\n",
            "45/45 [==============================] - 137s 3s/step - loss: 0.2180 - accuracy: 0.9366\n",
            "Epoch 50/50\n",
            "45/45 [==============================] - 140s 3s/step - loss: 0.1777 - accuracy: 0.9546\n"
          ],
          "name": "stdout"
        },
        {
          "output_type": "execute_result",
          "data": {
            "text/plain": [
              "<tensorflow.python.keras.callbacks.History at 0x7fc5e30cbc18>"
            ]
          },
          "metadata": {
            "tags": []
          },
          "execution_count": 7
        }
      ]
    },
    {
      "cell_type": "code",
      "metadata": {
        "id": "oyWVjBC6-VdQ"
      },
      "source": [
        "start = numpy.random.randint(0, len(network_input)-1)\n",
        "int_to_note = dict((number, note) for number, note in enumerate(pitchnames))\n",
        "pattern = network_input[start]\n",
        "prediction_output = []\n",
        "# generate 200 notes\n",
        "for note_index in range(200):\n",
        "    prediction_input = numpy.reshape(pattern, (1, len(pattern), 1))\n",
        "    prediction_input = prediction_input / float(n_vocab)\n",
        "    prediction = model.predict(prediction_input, verbose=0)\n",
        "    index = numpy.argmax(prediction)\n",
        "    result = int_to_note[index]\n",
        "    prediction_output.append(result)\n",
        "    ind = numpy.asarray(index)\n",
        "    pattern = numpy.append(pattern,ind)\n",
        "    pattern = pattern[1:len(pattern)]"
      ],
      "execution_count": null,
      "outputs": []
    },
    {
      "cell_type": "code",
      "metadata": {
        "colab": {
          "base_uri": "https://localhost:8080/"
        },
        "id": "0asQK_f6-d6w",
        "outputId": "018087c6-4f6f-453b-d5ff-0a0a897f137b"
      },
      "source": [
        "print(prediction_output)"
      ],
      "execution_count": null,
      "outputs": [
        {
          "output_type": "stream",
          "text": [
            "['F3', 'G6', 'F6', 'F6', 'E5', 'C5', 'D5', 'C5', 'A5', 'G5', 'F5', 'D5', 'C5', 'A4', 'G4', 'A4', 'G4', 'F4', 'D4', 'C4', 'A3', 'G3', 'A3', 'G3', 'F3', 'C3', 'A2', 'F2', '10.1.5', '10.1.5', 'F5', '5.9.0', '5.9.0', '5.9.0', '0.5', 'F3', '5', '5', 'F3', 'A6', 'F5', 'D6', 'D6', 'A4', 'A4', 'A4', 'F5', 'F5', '0', 'D5', '4.9', '5.9.0', '9.0', '5.9.0', 'G4', '5', '2.5', 'G4', 'E5', 'F2', 'E5', '9.0', 'A4', 'A4', 'D5', 'C3', 'E5', 'E5', '5.9', 'C4', 'B3', 'A4', 'D5', 'D5', 'E5', 'D4', '9.0', 'C4', 'A4', 'D5', 'F3', 'E5', '9.0', 'B3', 'C4', 'A4', 'D5', 'C3', 'E5', 'D4', 'A4', 'G5', 'C4', 'F5', 'B3', 'A4', 'D5', 'C4', 'E5', 'D4', '9.0', 'C4', 'C2', '10.2.5', 'G3', 'C4', '10.2.5', 'G4', 'C5', '10.2.5', 'G5', 'C6', '5.10', '2.7', '5.10', '2.7', '5.10', 'G5', '5.10', '2.7', '5.10', 'G5', '5.10', '2.7', 'C2', '10.2.5', 'G3', 'C4', '10.2.5', 'G4', 'C5', '10.2.5', 'G5', 'C6', '7.10.2', '0.5', '7.10.2', '0.5', '7.10', '0.5', '7.10.2', '0.5', '7.10.2', '0.5', '7.10', '0.5', '7.10.0', '0.4', '5.9', '0.5', 'G5', 'A5', 'G5', '0.5', 'F5', 'A4', '0.5', 'F5', 'A5', '1.5', 'G5', 'F5', '1.5', 'A4', 'F4', '1.5', 'A4', '5.9', '2.5', 'G5', 'A5', 'G5', '2.5', 'F5', 'A4', '2.5', 'F5', 'A5', '1.5', 'G5', 'F5', '1.5', 'A4', 'F4', '1.5', 'A4', '5.9', '0.5', 'G5', 'A5', 'G5', '0.5', 'F5', 'A4', '0.5', 'F5', '2.5.9', 'B2', 'G5', 'A5']\n"
          ],
          "name": "stdout"
        }
      ]
    },
    {
      "cell_type": "code",
      "metadata": {
        "id": "A-KlX1o2-gmH"
      },
      "source": [
        "offset = 0\n",
        "output_notes = []\n",
        "# create note and chord objects based on the values generated by the model\n",
        "for pattern in prediction_output:\n",
        "    # pattern is a chord\n",
        "    if ('.' in pattern) or pattern.isdigit():\n",
        "        notes_in_chord = pattern.split('.')\n",
        "        notes = []\n",
        "        for current_note in notes_in_chord:\n",
        "            new_note = note.Note(int(current_note))\n",
        "            new_note.storedInstrument = instrument.Piano()\n",
        "            notes.append(new_note)\n",
        "        new_chord = chord.Chord(notes)\n",
        "        new_chord.offset = offset\n",
        "        output_notes.append(new_chord)\n",
        "    # pattern is a note\n",
        "    else:\n",
        "        new_note = note.Note(pattern)\n",
        "        new_note.offset = offset\n",
        "        new_note.storedInstrument = instrument.Piano()\n",
        "        output_notes.append(new_note)\n",
        "    # increase offset each iteration so that notes do not stack\n",
        "    offset += 0.5"
      ],
      "execution_count": null,
      "outputs": []
    },
    {
      "cell_type": "code",
      "metadata": {
        "colab": {
          "base_uri": "https://localhost:8080/",
          "height": 35
        },
        "id": "gOJjvIS7-ivG",
        "outputId": "74344ebd-3da5-4568-9876-c02aa7065352"
      },
      "source": [
        "midi_stream = stream.Stream(output_notes)\n",
        "midi_stream.write('midi', fp='output.mid')"
      ],
      "execution_count": null,
      "outputs": [
        {
          "output_type": "execute_result",
          "data": {
            "application/vnd.google.colaboratory.intrinsic+json": {
              "type": "string"
            },
            "text/plain": [
              "'output.mid'"
            ]
          },
          "metadata": {
            "tags": []
          },
          "execution_count": 12
        }
      ]
    },
    {
      "cell_type": "code",
      "metadata": {
        "id": "5YHRwCNL-kxr"
      },
      "source": [
        ""
      ],
      "execution_count": null,
      "outputs": []
    }
  ]
}